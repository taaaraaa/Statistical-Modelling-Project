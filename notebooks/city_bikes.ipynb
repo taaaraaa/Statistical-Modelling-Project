{
 "cells": [
  {
   "cell_type": "markdown",
   "metadata": {},
   "source": [
    "# CityBikes"
   ]
  },
  {
   "cell_type": "markdown",
   "metadata": {},
   "source": [
    "Send a request to CityBikes for the city of your choice. "
   ]
  },
  {
   "cell_type": "code",
   "execution_count": 2,
   "metadata": {},
   "outputs": [],
   "source": [
    "import requests\n",
    "import pandas as pd"
   ]
  },
  {
   "cell_type": "code",
   "execution_count": 3,
   "metadata": {},
   "outputs": [
    {
     "data": {
      "text/plain": [
       "<Response [200]>"
      ]
     },
     "execution_count": 3,
     "metadata": {},
     "output_type": "execute_result"
    }
   ],
   "source": [
    "city_bike_networks = requests.get('http://api.citybik.es/v2/networks')\n",
    "city_bike_networks"
   ]
  },
  {
   "cell_type": "markdown",
   "metadata": {},
   "source": [
    "Parse through the response to get the details you want for the bike stations in that city (latitude, longitude, number of bikes). "
   ]
  },
  {
   "cell_type": "code",
   "execution_count": 4,
   "metadata": {},
   "outputs": [
    {
     "data": {
      "text/plain": [
       "241    mobibikes\n",
       "Name: id, dtype: object"
      ]
     },
     "execution_count": 4,
     "metadata": {},
     "output_type": "execute_result"
    }
   ],
   "source": [
    "city_bike_networks = requests.get('http://api.citybik.es/v2/networks').json()\n",
    "networks = city_bike_networks['networks']\n",
    "networks_df = pd.json_normalize(data = networks)\n",
    "\n",
    "networks_df['location.city']\n",
    "\n",
    "networks_df[(networks_df['location.city'] == 'Vancouver')][\"id\"]"
   ]
  },
  {
   "cell_type": "code",
   "execution_count": 5,
   "metadata": {},
   "outputs": [
    {
     "data": {
      "text/plain": [
       "{'empty_slots': 14,\n",
       " 'extra': {'ebikes': 4,\n",
       "  'has_ebikes': True,\n",
       "  'last_updated': 1676316003,\n",
       "  'normal_bikes': 17,\n",
       "  'renting': True,\n",
       "  'returning': True,\n",
       "  'slots': 35,\n",
       "  'uid': '0001'},\n",
       " 'free_bikes': 21,\n",
       " 'id': '7a19c49f486d7c0c02b3685d7b240448',\n",
       " 'latitude': 49.262487,\n",
       " 'longitude': -123.114397,\n",
       " 'name': '10th & Cambie',\n",
       " 'timestamp': '2023-02-13T19:22:31.595000Z'}"
      ]
     },
     "execution_count": 5,
     "metadata": {},
     "output_type": "execute_result"
    }
   ],
   "source": [
    "#getting json stations data for certain network_id\n",
    "\n",
    "def network_json(network_id):\n",
    "    return requests.get(\"http://api.citybik.es/v2/networks/\"+network_id).json()['network']['stations']\n",
    "\n",
    "#getting  json stations data for vancouver (mobibikes)\n",
    "    \n",
    "vancouver_stations= network_json('mobibikes')\n",
    "\n",
    "vancouver_stations[0]"
   ]
  },
  {
   "cell_type": "markdown",
   "metadata": {},
   "source": [
    "Put your parsed results into a DataFrame."
   ]
  },
  {
   "cell_type": "code",
   "execution_count": 16,
   "metadata": {
    "scrolled": true
   },
   "outputs": [
    {
     "name": "stdout",
     "output_type": "stream",
     "text": [
      "(241, 3) \n",
      "    free_bikes                         name                     ll\n",
      "0          21                10th & Cambie  49.262487,-123.114397\n",
      "1           9  Yaletown-Roundhouse Station  49.274566,-123.121817\n",
      "2          13            Dunsmuir & Beatty  49.279764,-123.110154\n",
      "3           2     12th & Yukon (City Hall)  49.260599,-123.113504\n",
      "4           9                    8th & Ash  49.264215,-123.117772\n"
     ]
    }
   ],
   "source": [
    "vancouver_stations_df=pd.json_normalize(data=vancouver_stations)\n",
    "\n",
    "van_bike_data=vancouver_stations_df\n",
    "van_bike_data['ll'] = van_bike_data['latitude'].astype(str) + ',' + van_bike_data['longitude'].astype(str)\n",
    "van_bike_data=van_bike_data[['free_bikes','name','ll']]\n",
    "print(van_bike_data.shape,'\\n',van_bike_data.head())"
   ]
  },
  {
   "cell_type": "code",
   "execution_count": 17,
   "metadata": {},
   "outputs": [],
   "source": [
    "# exporting the extracted data as a CSV file \n",
    "van_bike_data.to_csv('../data/van_bike_data.csv',index=False)"
   ]
  }
 ],
 "metadata": {
  "kernelspec": {
   "display_name": "Python 3 (ipykernel)",
   "language": "python",
   "name": "python3"
  },
  "language_info": {
   "codemirror_mode": {
    "name": "ipython",
    "version": 3
   },
   "file_extension": ".py",
   "mimetype": "text/x-python",
   "name": "python",
   "nbconvert_exporter": "python",
   "pygments_lexer": "ipython3",
   "version": "3.9.13"
  }
 },
 "nbformat": 4,
 "nbformat_minor": 4
}
