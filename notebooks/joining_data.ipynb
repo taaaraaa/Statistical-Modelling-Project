{
 "cells": [
  {
   "cell_type": "markdown",
   "metadata": {},
   "source": [
    "Join the data from Part 1 with the data from Part 2 to create a new dataframe."
   ]
  },
  {
   "cell_type": "code",
   "execution_count": 6,
   "metadata": {},
   "outputs": [],
   "source": [
    "import requests\n",
    "import pandas as pd\n",
    "import numpy as np"
   ]
  },
  {
   "cell_type": "code",
   "execution_count": 13,
   "metadata": {},
   "outputs": [],
   "source": [
    "van_bike_data = pd.read_csv('../data/van_bike_data.csv', encoding='unicode_escape')"
   ]
  },
  {
   "cell_type": "code",
   "execution_count": 8,
   "metadata": {},
   "outputs": [],
   "source": [
    "van_bar_data=pd.read_csv(\"van_bar_data.csv\",encoding=\"unicode_escape\")"
   ]
  },
  {
   "cell_type": "code",
   "execution_count": 9,
   "metadata": {},
   "outputs": [],
   "source": [
    "bars_yelp=pd.read_csv('bars_yelp.csv',encoding=\"unicode_escape\")"
   ]
  },
  {
   "cell_type": "code",
   "execution_count": 10,
   "metadata": {
    "scrolled": true
   },
   "outputs": [],
   "source": [
    "Bike_Foursquare = pd.merge(van_bike_data,van_bar_data, on=[\"ll\", \"ll\"])"
   ]
  },
  {
   "cell_type": "code",
   "execution_count": 11,
   "metadata": {
    "scrolled": true
   },
   "outputs": [
    {
     "data": {
      "text/html": [
       "<div>\n",
       "<style scoped>\n",
       "    .dataframe tbody tr th:only-of-type {\n",
       "        vertical-align: middle;\n",
       "    }\n",
       "\n",
       "    .dataframe tbody tr th {\n",
       "        vertical-align: top;\n",
       "    }\n",
       "\n",
       "    .dataframe thead th {\n",
       "        text-align: right;\n",
       "    }\n",
       "</style>\n",
       "<table border=\"1\" class=\"dataframe\">\n",
       "  <thead>\n",
       "    <tr style=\"text-align: right;\">\n",
       "      <th></th>\n",
       "      <th>free_bikes</th>\n",
       "      <th>name</th>\n",
       "      <th>ll</th>\n",
       "      <th>no of bars</th>\n",
       "      <th>avg_rating</th>\n",
       "      <th>avg_review</th>\n",
       "      <th>avg_distance</th>\n",
       "      <th>no_of_bars_yelp</th>\n",
       "    </tr>\n",
       "  </thead>\n",
       "  <tbody>\n",
       "    <tr>\n",
       "      <th>0</th>\n",
       "      <td>21</td>\n",
       "      <td>10th &amp; Cambie</td>\n",
       "      <td>49.262487,-123.114397</td>\n",
       "      <td>50</td>\n",
       "      <td>3.70</td>\n",
       "      <td>103.89</td>\n",
       "      <td>889.53</td>\n",
       "      <td>27</td>\n",
       "    </tr>\n",
       "    <tr>\n",
       "      <th>1</th>\n",
       "      <td>9</td>\n",
       "      <td>Yaletown-Roundhouse Station</td>\n",
       "      <td>49.274566,-123.121817</td>\n",
       "      <td>50</td>\n",
       "      <td>3.59</td>\n",
       "      <td>105.70</td>\n",
       "      <td>538.35</td>\n",
       "      <td>50</td>\n",
       "    </tr>\n",
       "    <tr>\n",
       "      <th>2</th>\n",
       "      <td>13</td>\n",
       "      <td>Dunsmuir &amp; Beatty</td>\n",
       "      <td>49.279764,-123.110154</td>\n",
       "      <td>50</td>\n",
       "      <td>3.91</td>\n",
       "      <td>148.94</td>\n",
       "      <td>573.26</td>\n",
       "      <td>50</td>\n",
       "    </tr>\n",
       "    <tr>\n",
       "      <th>3</th>\n",
       "      <td>2</td>\n",
       "      <td>12th &amp; Yukon (City Hall)</td>\n",
       "      <td>49.260599,-123.113504</td>\n",
       "      <td>50</td>\n",
       "      <td>3.76</td>\n",
       "      <td>84.45</td>\n",
       "      <td>901.41</td>\n",
       "      <td>29</td>\n",
       "    </tr>\n",
       "    <tr>\n",
       "      <th>4</th>\n",
       "      <td>9</td>\n",
       "      <td>8th &amp; Ash</td>\n",
       "      <td>49.264215,-123.117772</td>\n",
       "      <td>50</td>\n",
       "      <td>3.45</td>\n",
       "      <td>138.09</td>\n",
       "      <td>640.18</td>\n",
       "      <td>11</td>\n",
       "    </tr>\n",
       "    <tr>\n",
       "      <th>...</th>\n",
       "      <td>...</td>\n",
       "      <td>...</td>\n",
       "      <td>...</td>\n",
       "      <td>...</td>\n",
       "      <td>...</td>\n",
       "      <td>...</td>\n",
       "      <td>...</td>\n",
       "      <td>...</td>\n",
       "    </tr>\n",
       "    <tr>\n",
       "      <th>236</th>\n",
       "      <td>11</td>\n",
       "      <td>Heather &amp; 29th</td>\n",
       "      <td>49.245535,-123.120496</td>\n",
       "      <td>4</td>\n",
       "      <td>4.00</td>\n",
       "      <td>1.00</td>\n",
       "      <td>942.16</td>\n",
       "      <td>1</td>\n",
       "    </tr>\n",
       "    <tr>\n",
       "      <th>237</th>\n",
       "      <td>16</td>\n",
       "      <td>Cardero &amp; Robson</td>\n",
       "      <td>49.289255,-123.132677</td>\n",
       "      <td>50</td>\n",
       "      <td>3.62</td>\n",
       "      <td>143.18</td>\n",
       "      <td>748.56</td>\n",
       "      <td>50</td>\n",
       "    </tr>\n",
       "    <tr>\n",
       "      <th>238</th>\n",
       "      <td>0</td>\n",
       "      <td>Commercial &amp; 20th</td>\n",
       "      <td>49.252656,-123.067965</td>\n",
       "      <td>11</td>\n",
       "      <td>0.00</td>\n",
       "      <td>0.00</td>\n",
       "      <td>0.00</td>\n",
       "      <td>0</td>\n",
       "    </tr>\n",
       "    <tr>\n",
       "      <th>239</th>\n",
       "      <td>2</td>\n",
       "      <td>Hornby &amp; Drake</td>\n",
       "      <td>49.277527,-123.129464</td>\n",
       "      <td>50</td>\n",
       "      <td>3.55</td>\n",
       "      <td>114.24</td>\n",
       "      <td>534.90</td>\n",
       "      <td>50</td>\n",
       "    </tr>\n",
       "    <tr>\n",
       "      <th>240</th>\n",
       "      <td>7</td>\n",
       "      <td>Burrard &amp; 14th</td>\n",
       "      <td>49.259469,-123.145718</td>\n",
       "      <td>50</td>\n",
       "      <td>3.73</td>\n",
       "      <td>77.23</td>\n",
       "      <td>686.08</td>\n",
       "      <td>13</td>\n",
       "    </tr>\n",
       "  </tbody>\n",
       "</table>\n",
       "<p>241 rows × 8 columns</p>\n",
       "</div>"
      ],
      "text/plain": [
       "     free_bikes                         name                     ll  \\\n",
       "0            21                10th & Cambie  49.262487,-123.114397   \n",
       "1             9  Yaletown-Roundhouse Station  49.274566,-123.121817   \n",
       "2            13            Dunsmuir & Beatty  49.279764,-123.110154   \n",
       "3             2     12th & Yukon (City Hall)  49.260599,-123.113504   \n",
       "4             9                    8th & Ash  49.264215,-123.117772   \n",
       "..          ...                          ...                    ...   \n",
       "236          11               Heather & 29th  49.245535,-123.120496   \n",
       "237          16             Cardero & Robson  49.289255,-123.132677   \n",
       "238           0            Commercial & 20th  49.252656,-123.067965   \n",
       "239           2               Hornby & Drake  49.277527,-123.129464   \n",
       "240           7               Burrard & 14th  49.259469,-123.145718   \n",
       "\n",
       "     no of bars  avg_rating  avg_review  avg_distance  no_of_bars_yelp  \n",
       "0            50        3.70      103.89        889.53               27  \n",
       "1            50        3.59      105.70        538.35               50  \n",
       "2            50        3.91      148.94        573.26               50  \n",
       "3            50        3.76       84.45        901.41               29  \n",
       "4            50        3.45      138.09        640.18               11  \n",
       "..          ...         ...         ...           ...              ...  \n",
       "236           4        4.00        1.00        942.16                1  \n",
       "237          50        3.62      143.18        748.56               50  \n",
       "238          11        0.00        0.00          0.00                0  \n",
       "239          50        3.55      114.24        534.90               50  \n",
       "240          50        3.73       77.23        686.08               13  \n",
       "\n",
       "[241 rows x 8 columns]"
      ]
     },
     "execution_count": 11,
     "metadata": {},
     "output_type": "execute_result"
    }
   ],
   "source": [
    "Bike_Foursquare_Yelp=pd.merge(Bike_Foursquare,bars_yelp, on=[\"ll\", \"ll\"])\n",
    "Bike_Foursquare_Yelp"
   ]
  },
  {
   "cell_type": "code",
   "execution_count": 14,
   "metadata": {},
   "outputs": [],
   "source": [
    "Bike_Foursquare_Yelp.to_csv('../data/Bike_Foursquare_Yelp.csv',index=False)"
   ]
  },
  {
   "cell_type": "markdown",
   "metadata": {},
   "source": [
    "Provide a visualization that you used as part of your EDA process. Explain the initial pattern or relationship you discoved through this visualization. "
   ]
  },
  {
   "cell_type": "code",
   "execution_count": null,
   "metadata": {},
   "outputs": [],
   "source": []
  },
  {
   "cell_type": "markdown",
   "metadata": {},
   "source": [
    "# Database"
   ]
  },
  {
   "cell_type": "markdown",
   "metadata": {},
   "source": [
    "Put all your results in an SQLite3 database (remember, SQLite stores its databases as files in your local machine - make sure to create your database in your project's data/ directory!)"
   ]
  },
  {
   "cell_type": "code",
   "execution_count": 2,
   "metadata": {},
   "outputs": [],
   "source": [
    "import sqlite3\n",
    "from sqlite3 import Error\n",
    "\n",
    "def create_connection(path):\n",
    "    connection = None\n",
    "    try:\n",
    "        connection = sqlite3.connect(path)\n",
    "        print(\"Connection to SQLite DB successful\")\n",
    "    except Error as e:\n",
    "        print(f\"The error '{e}' occurred\")\n",
    "\n",
    "    return connection"
   ]
  },
  {
   "cell_type": "code",
   "execution_count": 3,
   "metadata": {},
   "outputs": [
    {
     "name": "stdout",
     "output_type": "stream",
     "text": [
      "Connection to SQLite DB successful\n"
     ]
    },
    {
     "data": {
      "text/plain": [
       "<sqlite3.Connection at 0x2287391f7b0>"
      ]
     },
     "execution_count": 3,
     "metadata": {},
     "output_type": "execute_result"
    }
   ],
   "source": [
    "connection = create_connection(\"../data/sm_app.sqlite\")\n",
    "connection"
   ]
  },
  {
   "cell_type": "markdown",
   "metadata": {},
   "source": [
    "Look at the data before and after the join to validate your data."
   ]
  },
  {
   "cell_type": "code",
   "execution_count": null,
   "metadata": {},
   "outputs": [],
   "source": []
  }
 ],
 "metadata": {
  "kernelspec": {
   "display_name": "Python 3 (ipykernel)",
   "language": "python",
   "name": "python3"
  },
  "language_info": {
   "codemirror_mode": {
    "name": "ipython",
    "version": 3
   },
   "file_extension": ".py",
   "mimetype": "text/x-python",
   "name": "python",
   "nbconvert_exporter": "python",
   "pygments_lexer": "ipython3",
   "version": "3.9.13"
  }
 },
 "nbformat": 4,
 "nbformat_minor": 4
}
