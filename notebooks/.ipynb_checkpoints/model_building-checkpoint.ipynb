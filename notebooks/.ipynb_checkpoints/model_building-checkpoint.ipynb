{
 "cells": [
  {
   "cell_type": "markdown",
   "metadata": {},
   "source": [
    "Build a regression model."
   ]
  },
  {
   "cell_type": "code",
   "execution_count": 1,
   "metadata": {},
   "outputs": [],
   "source": [
    "import pandas as pd\n",
    "import numpy as np\n",
    "import statsmodels.api as sm"
   ]
  },
  {
   "cell_type": "code",
   "execution_count": 8,
   "metadata": {},
   "outputs": [
    {
     "data": {
      "text/html": [
       "<div>\n",
       "<style scoped>\n",
       "    .dataframe tbody tr th:only-of-type {\n",
       "        vertical-align: middle;\n",
       "    }\n",
       "\n",
       "    .dataframe tbody tr th {\n",
       "        vertical-align: top;\n",
       "    }\n",
       "\n",
       "    .dataframe thead th {\n",
       "        text-align: right;\n",
       "    }\n",
       "</style>\n",
       "<table border=\"1\" class=\"dataframe\">\n",
       "  <thead>\n",
       "    <tr style=\"text-align: right;\">\n",
       "      <th></th>\n",
       "      <th>free_bikes</th>\n",
       "      <th>name</th>\n",
       "      <th>ll</th>\n",
       "      <th>avg_rating</th>\n",
       "      <th>avg_review</th>\n",
       "      <th>avg_distance</th>\n",
       "      <th>no_of_bars_yelp</th>\n",
       "    </tr>\n",
       "  </thead>\n",
       "  <tbody>\n",
       "    <tr>\n",
       "      <th>0</th>\n",
       "      <td>21</td>\n",
       "      <td>10th &amp; Cambie</td>\n",
       "      <td>49.262487,-123.114397</td>\n",
       "      <td>3.73</td>\n",
       "      <td>100.29</td>\n",
       "      <td>891.97</td>\n",
       "      <td>28</td>\n",
       "    </tr>\n",
       "    <tr>\n",
       "      <th>1</th>\n",
       "      <td>9</td>\n",
       "      <td>Yaletown-Roundhouse Station</td>\n",
       "      <td>49.274566,-123.121817</td>\n",
       "      <td>3.70</td>\n",
       "      <td>98.74</td>\n",
       "      <td>482.66</td>\n",
       "      <td>50</td>\n",
       "    </tr>\n",
       "    <tr>\n",
       "      <th>2</th>\n",
       "      <td>13</td>\n",
       "      <td>Dunsmuir &amp; Beatty</td>\n",
       "      <td>49.279764,-123.110154</td>\n",
       "      <td>3.88</td>\n",
       "      <td>152.90</td>\n",
       "      <td>569.80</td>\n",
       "      <td>50</td>\n",
       "    </tr>\n",
       "    <tr>\n",
       "      <th>3</th>\n",
       "      <td>2</td>\n",
       "      <td>12th &amp; Yukon (City Hall)</td>\n",
       "      <td>49.260599,-123.113504</td>\n",
       "      <td>3.78</td>\n",
       "      <td>81.73</td>\n",
       "      <td>902.70</td>\n",
       "      <td>30</td>\n",
       "    </tr>\n",
       "    <tr>\n",
       "      <th>4</th>\n",
       "      <td>9</td>\n",
       "      <td>8th &amp; Ash</td>\n",
       "      <td>49.264215,-123.117772</td>\n",
       "      <td>3.45</td>\n",
       "      <td>138.09</td>\n",
       "      <td>640.18</td>\n",
       "      <td>11</td>\n",
       "    </tr>\n",
       "    <tr>\n",
       "      <th>...</th>\n",
       "      <td>...</td>\n",
       "      <td>...</td>\n",
       "      <td>...</td>\n",
       "      <td>...</td>\n",
       "      <td>...</td>\n",
       "      <td>...</td>\n",
       "      <td>...</td>\n",
       "    </tr>\n",
       "    <tr>\n",
       "      <th>236</th>\n",
       "      <td>11</td>\n",
       "      <td>Heather &amp; 29th</td>\n",
       "      <td>49.245535,-123.120496</td>\n",
       "      <td>4.00</td>\n",
       "      <td>1.00</td>\n",
       "      <td>942.16</td>\n",
       "      <td>1</td>\n",
       "    </tr>\n",
       "    <tr>\n",
       "      <th>237</th>\n",
       "      <td>16</td>\n",
       "      <td>Cardero &amp; Robson</td>\n",
       "      <td>49.289255,-123.132677</td>\n",
       "      <td>3.62</td>\n",
       "      <td>146.94</td>\n",
       "      <td>729.72</td>\n",
       "      <td>50</td>\n",
       "    </tr>\n",
       "    <tr>\n",
       "      <th>238</th>\n",
       "      <td>0</td>\n",
       "      <td>Commercial &amp; 20th</td>\n",
       "      <td>49.252656,-123.067965</td>\n",
       "      <td>0.00</td>\n",
       "      <td>0.00</td>\n",
       "      <td>0.00</td>\n",
       "      <td>0</td>\n",
       "    </tr>\n",
       "    <tr>\n",
       "      <th>239</th>\n",
       "      <td>2</td>\n",
       "      <td>Hornby &amp; Drake</td>\n",
       "      <td>49.277527,-123.129464</td>\n",
       "      <td>3.60</td>\n",
       "      <td>129.14</td>\n",
       "      <td>537.85</td>\n",
       "      <td>50</td>\n",
       "    </tr>\n",
       "    <tr>\n",
       "      <th>240</th>\n",
       "      <td>7</td>\n",
       "      <td>Burrard &amp; 14th</td>\n",
       "      <td>49.259469,-123.145718</td>\n",
       "      <td>3.73</td>\n",
       "      <td>77.23</td>\n",
       "      <td>686.08</td>\n",
       "      <td>13</td>\n",
       "    </tr>\n",
       "  </tbody>\n",
       "</table>\n",
       "<p>241 rows × 7 columns</p>\n",
       "</div>"
      ],
      "text/plain": [
       "     free_bikes                         name                     ll  \\\n",
       "0            21                10th & Cambie  49.262487,-123.114397   \n",
       "1             9  Yaletown-Roundhouse Station  49.274566,-123.121817   \n",
       "2            13            Dunsmuir & Beatty  49.279764,-123.110154   \n",
       "3             2     12th & Yukon (City Hall)  49.260599,-123.113504   \n",
       "4             9                    8th & Ash  49.264215,-123.117772   \n",
       "..          ...                          ...                    ...   \n",
       "236          11               Heather & 29th  49.245535,-123.120496   \n",
       "237          16             Cardero & Robson  49.289255,-123.132677   \n",
       "238           0            Commercial & 20th  49.252656,-123.067965   \n",
       "239           2               Hornby & Drake  49.277527,-123.129464   \n",
       "240           7               Burrard & 14th  49.259469,-123.145718   \n",
       "\n",
       "     avg_rating  avg_review  avg_distance  no_of_bars_yelp  \n",
       "0          3.73      100.29        891.97               28  \n",
       "1          3.70       98.74        482.66               50  \n",
       "2          3.88      152.90        569.80               50  \n",
       "3          3.78       81.73        902.70               30  \n",
       "4          3.45      138.09        640.18               11  \n",
       "..          ...         ...           ...              ...  \n",
       "236        4.00        1.00        942.16                1  \n",
       "237        3.62      146.94        729.72               50  \n",
       "238        0.00        0.00          0.00                0  \n",
       "239        3.60      129.14        537.85               50  \n",
       "240        3.73       77.23        686.08               13  \n",
       "\n",
       "[241 rows x 7 columns]"
      ]
     },
     "execution_count": 8,
     "metadata": {},
     "output_type": "execute_result"
    }
   ],
   "source": [
    "data = pd.read_csv('../data/Bike_Foursquare_Yelp.csv')\n",
    "data"
   ]
  },
  {
   "cell_type": "code",
   "execution_count": 9,
   "metadata": {},
   "outputs": [],
   "source": [
    "# x: independent variables y:independent variable\n",
    "\n",
    "X = data[['avg_rating', 'avg_review', 'avg_distance','no_of_bars_yelp']]\n",
    "y = data['free_bikes']"
   ]
  },
  {
   "cell_type": "code",
   "execution_count": 10,
   "metadata": {},
   "outputs": [],
   "source": [
    "X = sm.add_constant(X)"
   ]
  },
  {
   "cell_type": "code",
   "execution_count": 11,
   "metadata": {},
   "outputs": [],
   "source": [
    "model = sm.OLS(y, X).fit()"
   ]
  },
  {
   "cell_type": "markdown",
   "metadata": {},
   "source": [
    "Provide model output and an interpretation of the results. "
   ]
  },
  {
   "cell_type": "code",
   "execution_count": 12,
   "metadata": {},
   "outputs": [
    {
     "name": "stdout",
     "output_type": "stream",
     "text": [
      "                            OLS Regression Results                            \n",
      "==============================================================================\n",
      "Dep. Variable:             free_bikes   R-squared:                       0.049\n",
      "Model:                            OLS   Adj. R-squared:                  0.033\n",
      "Method:                 Least Squares   F-statistic:                     3.072\n",
      "Date:                Sun, 26 Feb 2023   Prob (F-statistic):             0.0171\n",
      "Time:                        21:06:13   Log-Likelihood:                -740.42\n",
      "No. Observations:                 241   AIC:                             1491.\n",
      "Df Residuals:                     236   BIC:                             1508.\n",
      "Df Model:                           4                                         \n",
      "Covariance Type:            nonrobust                                         \n",
      "===================================================================================\n",
      "                      coef    std err          t      P>|t|      [0.025      0.975]\n",
      "-----------------------------------------------------------------------------------\n",
      "const               7.0258      2.285      3.075      0.002       2.524      11.528\n",
      "avg_rating         -0.4218      0.775     -0.544      0.587      -1.949       1.106\n",
      "avg_review          0.0288      0.012      2.420      0.016       0.005       0.052\n",
      "avg_distance        0.0007      0.002      0.315      0.753      -0.004       0.005\n",
      "no_of_bars_yelp     0.0003      0.030      0.009      0.993      -0.060       0.060\n",
      "==============================================================================\n",
      "Omnibus:                       30.339   Durbin-Watson:                   1.752\n",
      "Prob(Omnibus):                  0.000   Jarque-Bera (JB):               38.104\n",
      "Skew:                           0.884   Prob(JB):                     5.32e-09\n",
      "Kurtosis:                       3.817   Cond. No.                     4.90e+03\n",
      "==============================================================================\n",
      "\n",
      "Notes:\n",
      "[1] Standard Errors assume that the covariance matrix of the errors is correctly specified.\n",
      "[2] The condition number is large, 4.9e+03. This might indicate that there are\n",
      "strong multicollinearity or other numerical problems.\n"
     ]
    }
   ],
   "source": [
    "print(model.summary())"
   ]
  },
  {
   "cell_type": "code",
   "execution_count": null,
   "metadata": {},
   "outputs": [],
   "source": []
  },
  {
   "cell_type": "markdown",
   "metadata": {},
   "source": [
    "# Stretch"
   ]
  },
  {
   "cell_type": "markdown",
   "metadata": {},
   "source": [
    "How can you turn the regression model into a classification model?"
   ]
  },
  {
   "cell_type": "code",
   "execution_count": null,
   "metadata": {},
   "outputs": [],
   "source": []
  }
 ],
 "metadata": {
  "kernelspec": {
   "display_name": "Python 3 (ipykernel)",
   "language": "python",
   "name": "python3"
  },
  "language_info": {
   "codemirror_mode": {
    "name": "ipython",
    "version": 3
   },
   "file_extension": ".py",
   "mimetype": "text/x-python",
   "name": "python",
   "nbconvert_exporter": "python",
   "pygments_lexer": "ipython3",
   "version": "3.9.13"
  }
 },
 "nbformat": 4,
 "nbformat_minor": 4
}
