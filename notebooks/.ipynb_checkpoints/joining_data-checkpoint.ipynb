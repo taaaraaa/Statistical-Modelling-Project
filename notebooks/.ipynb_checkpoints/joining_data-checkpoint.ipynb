{
 "cells": [
  {
   "cell_type": "markdown",
   "metadata": {},
   "source": [
    "Join the data from Part 1 with the data from Part 2 to create a new dataframe."
   ]
  },
  {
   "cell_type": "code",
   "execution_count": 1,
   "metadata": {},
   "outputs": [],
   "source": [
    "import requests\n",
    "import pandas as pd\n",
    "import numpy as np"
   ]
  },
  {
   "cell_type": "markdown",
   "metadata": {},
   "source": [
    "We have three CSV tables, so all of them should be imported and converted to DF first"
   ]
  },
  {
   "cell_type": "code",
   "execution_count": 2,
   "metadata": {},
   "outputs": [],
   "source": [
    "van_bike_data = pd.read_csv('../data/van_bike_data.csv', encoding='unicode_escape')"
   ]
  },
  {
   "cell_type": "code",
   "execution_count": 3,
   "metadata": {},
   "outputs": [],
   "source": [
    "van_bar_data=pd.read_csv('../data/bars_4square.csv',encoding='unicode_escape')"
   ]
  },
  {
   "cell_type": "code",
   "execution_count": 4,
   "metadata": {},
   "outputs": [],
   "source": [
    "bars_yelp=pd.read_csv('../data/bars_yelp.csv',encoding='unicode_escape')"
   ]
  },
  {
   "cell_type": "markdown",
   "metadata": {},
   "source": [
    "In the code below, the first two tables are merged, and on the following code, the merged table are joined with the third table."
   ]
  },
  {
   "cell_type": "code",
   "execution_count": 5,
   "metadata": {
    "scrolled": true
   },
   "outputs": [],
   "source": [
    "Bike_Foursquare = pd.merge(van_bike_data,van_bar_data, on=[\"ll\", \"ll\"])"
   ]
  },
  {
   "cell_type": "code",
   "execution_count": 8,
   "metadata": {},
   "outputs": [
    {
     "data": {
      "text/html": [
       "<div>\n",
       "<style scoped>\n",
       "    .dataframe tbody tr th:only-of-type {\n",
       "        vertical-align: middle;\n",
       "    }\n",
       "\n",
       "    .dataframe tbody tr th {\n",
       "        vertical-align: top;\n",
       "    }\n",
       "\n",
       "    .dataframe thead th {\n",
       "        text-align: right;\n",
       "    }\n",
       "</style>\n",
       "<table border=\"1\" class=\"dataframe\">\n",
       "  <thead>\n",
       "    <tr style=\"text-align: right;\">\n",
       "      <th></th>\n",
       "      <th>free_bikes</th>\n",
       "      <th>name</th>\n",
       "      <th>ll</th>\n",
       "      <th>no of bars</th>\n",
       "      <th>avg_rating</th>\n",
       "      <th>avg_review</th>\n",
       "      <th>avg_distance</th>\n",
       "      <th>no_of_bars_yelp</th>\n",
       "    </tr>\n",
       "  </thead>\n",
       "  <tbody>\n",
       "    <tr>\n",
       "      <th>0</th>\n",
       "      <td>21</td>\n",
       "      <td>10th &amp; Cambie</td>\n",
       "      <td>49.262487,-123.114397</td>\n",
       "      <td>50</td>\n",
       "      <td>3.73</td>\n",
       "      <td>100.29</td>\n",
       "      <td>891.97</td>\n",
       "      <td>28</td>\n",
       "    </tr>\n",
       "    <tr>\n",
       "      <th>1</th>\n",
       "      <td>9</td>\n",
       "      <td>Yaletown-Roundhouse Station</td>\n",
       "      <td>49.274566,-123.121817</td>\n",
       "      <td>50</td>\n",
       "      <td>3.70</td>\n",
       "      <td>98.74</td>\n",
       "      <td>482.66</td>\n",
       "      <td>50</td>\n",
       "    </tr>\n",
       "    <tr>\n",
       "      <th>2</th>\n",
       "      <td>13</td>\n",
       "      <td>Dunsmuir &amp; Beatty</td>\n",
       "      <td>49.279764,-123.110154</td>\n",
       "      <td>50</td>\n",
       "      <td>3.88</td>\n",
       "      <td>152.90</td>\n",
       "      <td>569.80</td>\n",
       "      <td>50</td>\n",
       "    </tr>\n",
       "    <tr>\n",
       "      <th>3</th>\n",
       "      <td>2</td>\n",
       "      <td>12th &amp; Yukon (City Hall)</td>\n",
       "      <td>49.260599,-123.113504</td>\n",
       "      <td>50</td>\n",
       "      <td>3.78</td>\n",
       "      <td>81.73</td>\n",
       "      <td>902.70</td>\n",
       "      <td>30</td>\n",
       "    </tr>\n",
       "    <tr>\n",
       "      <th>4</th>\n",
       "      <td>9</td>\n",
       "      <td>8th &amp; Ash</td>\n",
       "      <td>49.264215,-123.117772</td>\n",
       "      <td>50</td>\n",
       "      <td>3.45</td>\n",
       "      <td>138.09</td>\n",
       "      <td>640.18</td>\n",
       "      <td>11</td>\n",
       "    </tr>\n",
       "  </tbody>\n",
       "</table>\n",
       "</div>"
      ],
      "text/plain": [
       "   free_bikes                         name                     ll  no of bars  \\\n",
       "0          21                10th & Cambie  49.262487,-123.114397          50   \n",
       "1           9  Yaletown-Roundhouse Station  49.274566,-123.121817          50   \n",
       "2          13            Dunsmuir & Beatty  49.279764,-123.110154          50   \n",
       "3           2     12th & Yukon (City Hall)  49.260599,-123.113504          50   \n",
       "4           9                    8th & Ash  49.264215,-123.117772          50   \n",
       "\n",
       "   avg_rating  avg_review  avg_distance  no_of_bars_yelp  \n",
       "0        3.73      100.29        891.97               28  \n",
       "1        3.70       98.74        482.66               50  \n",
       "2        3.88      152.90        569.80               50  \n",
       "3        3.78       81.73        902.70               30  \n",
       "4        3.45      138.09        640.18               11  "
      ]
     },
     "execution_count": 8,
     "metadata": {},
     "output_type": "execute_result"
    }
   ],
   "source": [
    "Bike_Foursquare_Yelp=pd.merge(Bike_Foursquare,bars_yelp, on=[\"ll\", \"ll\"])\n",
    "Bike_Foursquare_Yelp.head()"
   ]
  },
  {
   "cell_type": "markdown",
   "metadata": {},
   "source": [
    "In the following code, the joined tables would be exported as a CSV as a backup "
   ]
  },
  {
   "cell_type": "code",
   "execution_count": null,
   "metadata": {},
   "outputs": [],
   "source": [
    "Bike_Foursquare_Yelp.to_csv('../data/Bike_Foursquare_Yelp.csv',index=False)"
   ]
  },
  {
   "cell_type": "markdown",
   "metadata": {},
   "source": [
    "##  EDA Process\n",
    "Provide a visualization that you used as part of your EDA process. Explain the initial pattern or relationship you discoved through this visualization. "
   ]
  },
  {
   "cell_type": "code",
   "execution_count": 9,
   "metadata": {},
   "outputs": [],
   "source": [
    "import matplotlib.pyplot as plt\n",
    "import seaborn as sns"
   ]
  },
  {
   "cell_type": "code",
   "execution_count": 10,
   "metadata": {},
   "outputs": [
    {
     "data": {
      "text/plain": [
       "(241, 8)"
      ]
     },
     "execution_count": 10,
     "metadata": {},
     "output_type": "execute_result"
    }
   ],
   "source": [
    "BFY=Bike_Foursquare_Yelp\n",
    "BFY.shape"
   ]
  },
  {
   "cell_type": "code",
   "execution_count": 11,
   "metadata": {},
   "outputs": [
    {
     "data": {
      "text/plain": [
       "free_bikes           int64\n",
       "name                object\n",
       "ll                  object\n",
       "no of bars           int64\n",
       "avg_rating         float64\n",
       "avg_review         float64\n",
       "avg_distance       float64\n",
       "no_of_bars_yelp      int64\n",
       "dtype: object"
      ]
     },
     "execution_count": 11,
     "metadata": {},
     "output_type": "execute_result"
    }
   ],
   "source": [
    "BFY.dtypes"
   ]
  },
  {
   "cell_type": "markdown",
   "metadata": {},
   "source": [
    "### - Descriptive analysis\n",
    "First of all, let's take a look at the distribution of number of bars."
   ]
  },
  {
   "cell_type": "code",
   "execution_count": 12,
   "metadata": {},
   "outputs": [
    {
     "data": {
      "text/plain": [
       "<AxesSubplot:xlabel='free_bikes', ylabel='Count'>"
      ]
     },
     "execution_count": 12,
     "metadata": {},
     "output_type": "execute_result"
    },
    {
     "data": {
      "image/png": "[encoded data removed]",
      "text/plain": [
       "<Figure size 640x480 with 1 Axes>"
      ]
     },
     "metadata": {},
     "output_type": "display_data"
    }
   ],
   "source": [
    "# descriptive statistics\n",
    "BFY['free_bikes'].describe()\n",
    "# histogram\n",
    "sns.histplot(BFY['free_bikes'])"
   ]
  },
  {
   "cell_type": "markdown",
   "metadata": {},
   "source": [
    "we can observe the following things:\n",
    "\n",
    "The distribution of free bikes slightly deviates from a normal distribution. - It's right skewed. "
   ]
  },
  {
   "cell_type": "markdown",
   "metadata": {},
   "source": [
    "___________________________________\n",
    "\n",
    "In the following distribution tables, we are comparing number of bars derived from foursquare API vs Yelp API"
   ]
  },
  {
   "cell_type": "code",
   "execution_count": 18,
   "metadata": {},
   "outputs": [
    {
     "data": {
      "text/plain": [
       "<AxesSubplot:xlabel='no of bars', ylabel='Count'>"
      ]
     },
     "execution_count": 18,
     "metadata": {},
     "output_type": "execute_result"
    },
    {
     "data": {
      "image/png": "[encoded data removed]",
      "text/plain": [
       "<Figure size 640x480 with 1 Axes>"
      ]
     },
     "metadata": {},
     "output_type": "display_data"
    }
   ],
   "source": [
    "# descriptive statistics for number of bars derived from foursquare API\n",
    "van_bar_data['no of bars'].describe()\n",
    "# histogram\n",
    "sns.histplot(van_bar_data['no of bars'])"
   ]
  },
  {
   "cell_type": "code",
   "execution_count": 14,
   "metadata": {},
   "outputs": [
    {
     "data": {
      "text/plain": [
       "<AxesSubplot:xlabel='no_of_bars_yelp', ylabel='Count'>"
      ]
     },
     "execution_count": 14,
     "metadata": {},
     "output_type": "execute_result"
    },
    {
     "data": {
      "image/png": "[encoded data removed]",
      "text/plain": [
       "<Figure size 640x480 with 1 Axes>"
      ]
     },
     "metadata": {},
     "output_type": "display_data"
    }
   ],
   "source": [
    "# # descriptive statistics for number of bars derived from Yelp API\n",
    "\n",
    "BFY['no_of_bars_yelp'].describe()\n",
    "# histogram\n",
    "sns.histplot(BFY['no_of_bars_yelp'])"
   ]
  },
  {
   "cell_type": "markdown",
   "metadata": {},
   "source": [
    "### Hint\n",
    "We are going to drop the ***no_of_bars_square*** column as it does not contain reliable information. It was more discussed [here](/yelp_foursquare_EDA.ipynb) yelp_foursquare_EDA.ipynb. Then I would export the revised CSV again."
   ]
  },
  {
   "cell_type": "code",
   "execution_count": null,
   "metadata": {},
   "outputs": [],
   "source": [
    "# drop the 'no_of_bars_square' column\n",
    "BFY.drop('no_of_bars_square', axis=1, inplace=True)"
   ]
  },
  {
   "cell_type": "code",
   "execution_count": 19,
   "metadata": {},
   "outputs": [],
   "source": [
    "# Exporting the revised CSV\n",
    "BFY.to_csv('../data/Bike_Foursquare_Yelp.csv',index=False)"
   ]
  },
  {
   "cell_type": "markdown",
   "metadata": {},
   "source": [
    "____________________________________\n",
    "### - Relationship Between the Number of Free bikes & Predictors\n",
    "\n",
    "Now we would look at the relationship between number of free bikes vs number of bars in each location derived from Yelp"
   ]
  },
  {
   "cell_type": "code",
   "execution_count": 20,
   "metadata": {},
   "outputs": [
    {
     "data": {
      "text/plain": [
       "<AxesSubplot:xlabel='no_of_bars_yelp', ylabel='free_bikes'>"
      ]
     },
     "execution_count": 20,
     "metadata": {},
     "output_type": "execute_result"
    },
    {
     "data": {
      "image/png": "[encoded data removed]",
      "text/plain": [
       "<Figure size 640x480 with 1 Axes>"
      ]
     },
     "metadata": {},
     "output_type": "display_data"
    }
   ],
   "source": [
    "# scatter plot no_of_bars_yelp vs. free_bikes\n",
    "var = 'no_of_bars_yelp'\n",
    "data = BFY[['free_bikes',var]]\n",
    "data.plot.scatter(x=var, y='free_bikes', ylim=(0,50))"
   ]
  },
  {
   "cell_type": "markdown",
   "metadata": {},
   "source": [
    "______________________\n",
    "### - Multivariate Analysis\n",
    "In this analysis we would take a look at the number of free bikes and all other numberical variables"
   ]
  },
  {
   "cell_type": "code",
   "execution_count": 21,
   "metadata": {},
   "outputs": [
    {
     "data": {
      "text/plain": [
       "<AxesSubplot:>"
      ]
     },
     "execution_count": 21,
     "metadata": {},
     "output_type": "execute_result"
    },
    {
     "data": {
      "image/png": "[encoded data removed]",
      "text/plain": [
       "<Figure size 1200x900 with 2 Axes>"
      ]
     },
     "metadata": {},
     "output_type": "display_data"
    }
   ],
   "source": [
    "# correlation matrix\n",
    "corrmat = BFY.corr()\n",
    "f, ax = plt.subplots(figsize=(12, 9))\n",
    "sns.heatmap(corrmat, vmax=.8, square=True,cmap=\"RdYlGn_r\")"
   ]
  },
  {
   "cell_type": "markdown",
   "metadata": {},
   "source": [
    "# Database"
   ]
  },
  {
   "cell_type": "markdown",
   "metadata": {},
   "source": [
    "Put all your results in an SQLite3 database (remember, SQLite stores its databases as files in your local machine - make sure to create your database in your project's data/ directory!)"
   ]
  },
  {
   "cell_type": "code",
   "execution_count": 22,
   "metadata": {},
   "outputs": [],
   "source": [
    "import sqlite3\n",
    "from sqlite3 import Error\n",
    "\n",
    "def create_connection(path):\n",
    "    connection = None\n",
    "    try:\n",
    "        connection = sqlite3.connect(path)\n",
    "        print(\"Connection to SQLite DB successful\")\n",
    "    except Error as e:\n",
    "        print(f\"The error '{e}' occurred\")\n",
    "\n",
    "    return connection"
   ]
  },
  {
   "cell_type": "code",
   "execution_count": 23,
   "metadata": {},
   "outputs": [
    {
     "name": "stdout",
     "output_type": "stream",
     "text": [
      "Connection to SQLite DB successful\n"
     ]
    },
    {
     "data": {
      "text/plain": [
       "<sqlite3.Connection at 0x1718aa02210>"
      ]
     },
     "execution_count": 23,
     "metadata": {},
     "output_type": "execute_result"
    }
   ],
   "source": [
    "connection = create_connection(\"../data/sm_app.sqlite\")\n",
    "connection"
   ]
  },
  {
   "cell_type": "code",
   "execution_count": 24,
   "metadata": {},
   "outputs": [
    {
     "data": {
      "text/plain": [
       "241"
      ]
     },
     "execution_count": 24,
     "metadata": {},
     "output_type": "execute_result"
    }
   ],
   "source": [
    "# load the bars_yelp.csv into a Pandas DataFrame\n",
    "bars_yelp = pd.read_csv('../data/bars_yelp.csv')\n",
    "\n",
    "# write the data to a sqlite table\n",
    "bars_yelp.to_sql('bars_yelp', connection, if_exists='append', index = False)"
   ]
  },
  {
   "cell_type": "code",
   "execution_count": 25,
   "metadata": {},
   "outputs": [
    {
     "data": {
      "text/plain": [
       "241"
      ]
     },
     "execution_count": 25,
     "metadata": {},
     "output_type": "execute_result"
    }
   ],
   "source": [
    "# load the bars_yelp.csv into a Pandas DataFrame\n",
    "van_bike_data = pd.read_csv('../data/van_bike_data.csv')\n",
    "\n",
    "# write the data to a sqlite table\n",
    "van_bike_data.to_sql('van_bike_data', connection, if_exists='append', index = False)"
   ]
  },
  {
   "cell_type": "code",
   "execution_count": 26,
   "metadata": {},
   "outputs": [
    {
     "data": {
      "text/plain": [
       "241"
      ]
     },
     "execution_count": 26,
     "metadata": {},
     "output_type": "execute_result"
    }
   ],
   "source": [
    "# load the bars_yelp.csv into a Pandas DataFrame\n",
    "bars_4square = pd.read_csv('../data/bars_4square.csv')\n",
    "\n",
    "# write the data to a sqlite table\n",
    "bars_4square.to_sql('bars_4square', connection, if_exists='append', index = False)"
   ]
  }
 ],
 "metadata": {
  "kernelspec": {
   "display_name": "Python 3 (ipykernel)",
   "language": "python",
   "name": "python3"
  },
  "language_info": {
   "codemirror_mode": {
    "name": "ipython",
    "version": 3
   },
   "file_extension": ".py",
   "mimetype": "text/x-python",
   "name": "python",
   "nbconvert_exporter": "python",
   "pygments_lexer": "ipython3",
   "version": "3.9.13"
  }
 },
 "nbformat": 4,
 "nbformat_minor": 4
}
