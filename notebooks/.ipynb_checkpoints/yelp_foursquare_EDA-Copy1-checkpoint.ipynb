{
 "cells": [
  {
   "cell_type": "code",
   "execution_count": 1,
   "metadata": {},
   "outputs": [],
   "source": [
    "import requests\n",
    "import pandas as pd\n",
    "import numpy as np"
   ]
  },
  {
   "cell_type": "code",
   "execution_count": 2,
   "metadata": {},
   "outputs": [],
   "source": [
    "from IPython.display import JSON"
   ]
  },
  {
   "cell_type": "markdown",
   "metadata": {},
   "source": [
    "# Foursquare"
   ]
  },
  {
   "cell_type": "markdown",
   "metadata": {},
   "source": [
    "Send a request to Foursquare with a small radius (1000m) for all the bike stations in your city of choice. "
   ]
  },
  {
   "cell_type": "code",
   "execution_count": 4,
   "metadata": {},
   "outputs": [
    {
     "data": {
      "application/json": {
       "context": {
        "geo_bounds": {
         "circle": {
          "center": {
           "latitude": 49.2663,
           "longitude": -122.8739
          },
          "radius": 22000
         }
        }
       },
       "results": [
        {
         "categories": [
          {
           "icon": {
            "prefix": "https://ss3.4sqi.net/img/categories_v2/nightlife/pub_",
            "suffix": ".png"
           },
           "id": 13018,
           "name": "Pub"
          },
          {
           "icon": {
            "prefix": "https://ss3.4sqi.net/img/categories_v2/nightlife/sportsbar_",
            "suffix": ".png"
           },
           "id": 13022,
           "name": "Sports Bar"
          },
          {
           "icon": {
            "prefix": "https://ss3.4sqi.net/img/categories_v2/food/default_",
            "suffix": ".png"
           },
           "id": 13065,
           "name": "Restaurant"
          }
         ],
         "chains": [],
         "distance": 2003,
         "fsq_id": "4aaa0322f964a520915520e3",
         "geocodes": {
          "main": {
           "latitude": 49.24878,
           "longitude": -122.86732
          },
          "roof": {
           "latitude": 49.24878,
           "longitude": -122.86732
          }
         },
         "link": "/v3/places/4aaa0322f964a520915520e3",
         "location": {
          "address": "1000 Austin Ave",
          "country": "CA",
          "cross_street": "at Lebleu St",
          "formatted_address": "1000 Austin Ave (at Lebleu St), Coquitlam BC V3K 3P1",
          "locality": "Coquitlam",
          "postcode": "V3K 3P1",
          "region": "BC"
         },
         "name": "John B Pub",
         "related_places": {},
         "timezone": "America/Vancouver"
        },
        {
         "categories": [
          {
           "icon": {
            "prefix": "https://ss3.4sqi.net/img/categories_v2/parks_outdoors/park_",
            "suffix": ".png"
           },
           "id": 16032,
           "name": "Park"
          }
         ],
         "chains": [],
         "distance": 2344,
         "fsq_id": "4aa96ab9f964a5208f5320e3",
         "geocodes": {
          "main": {
           "latitude": 49.279434,
           "longitude": -122.848314
          },
          "roof": {
           "latitude": 49.279434,
           "longitude": -122.848314
          }
         },
         "link": "/v3/places/4aa96ab9f964a5208f5320e3",
         "location": {
          "address": "2800 Murray St",
          "country": "CA",
          "cross_street": "at Moody St",
          "formatted_address": "2800 Murray St (at Moody St), Port Moody BC V3H 1X2",
          "locality": "Port Moody",
          "postcode": "V3H 1X2",
          "region": "BC"
         },
         "name": "Rocky Point Park, Port Moody",
         "related_places": {
          "children": [
           {
            "fsq_id": "4b8ed155f964a520ea3833e3",
            "name": "Pajo's Fish & Chips"
           }
          ]
         },
         "timezone": "America/Vancouver"
        },
        {
         "categories": [
          {
           "icon": {
            "prefix": "https://ss3.4sqi.net/img/categories_v2/food/icecream_",
            "suffix": ".png"
           },
           "id": 13046,
           "name": "Ice Cream Parlor"
          },
          {
           "icon": {
            "prefix": "https://ss3.4sqi.net/img/categories_v2/food/default_",
            "suffix": ".png"
           },
           "id": 13065,
           "name": "Restaurant"
          }
         ],
         "chains": [],
         "distance": 2287,
         "fsq_id": "4df55243d1649c8a28e9719d",
         "geocodes": {
          "main": {
           "latitude": 49.279519,
           "longitude": -122.84954
          },
          "roof": {
           "latitude": 49.279519,
           "longitude": -122.84954
          }
         },
         "link": "/v3/places/4df55243d1649c8a28e9719d",
         "location": {
          "address": "2800 Murray St",
          "country": "CA",
          "cross_street": "at Moody St",
          "formatted_address": "2800 Murray St (at Moody St), Port Moody BC V3H 1X2",
          "locality": "Port Moody",
          "postcode": "V3H 1X2",
          "region": "BC"
         },
         "name": "Rocky Point Ice Cream",
         "related_places": {},
         "timezone": "America/Vancouver"
        },
        {
         "categories": [
          {
           "icon": {
            "prefix": "https://ss3.4sqi.net/img/categories_v2/nightlife/pub_",
            "suffix": ".png"
           },
           "id": 13003,
           "name": "Bar"
          },
          {
           "icon": {
            "prefix": "https://ss3.4sqi.net/img/categories_v2/food/brewery_",
            "suffix": ".png"
           },
           "id": 13029,
           "name": "Brewery"
          }
         ],
         "chains": [],
         "distance": 3671,
         "fsq_id": "537237e3498e417222206af0",
         "geocodes": {
          "main": {
           "latitude": 49.25603,
           "longitude": -122.921909
          },
          "roof": {
           "latitude": 49.25603,
           "longitude": -122.921909
          }
         },
         "link": "/v3/places/537237e3498e417222206af0",
         "location": {
          "address": "3191 Thunderbird Cres",
          "address_extended": "# 114",
          "country": "CA",
          "cross_street": "at Production Way",
          "formatted_address": "3191 Thunderbird Cres (at Production Way), Burnaby BC V5A 3G1",
          "locality": "Burnaby",
          "postcode": "V5A 3G1",
          "region": "BC"
         },
         "name": "Dageraad Brewing",
         "related_places": {},
         "timezone": "America/Vancouver"
        },
        {
         "categories": [
          {
           "icon": {
            "prefix": "https://ss3.4sqi.net/img/categories_v2/parks_outdoors/playground_",
            "suffix": ".png"
           },
           "id": 16037,
           "name": "Playground"
          }
         ],
         "chains": [],
         "distance": 4775,
         "fsq_id": "4b4a6ebcf964a5206f8726e3",
         "geocodes": {
          "main": {
           "latitude": 49.267621,
           "longitude": -122.948037
          },
          "roof": {
           "latitude": 49.267621,
           "longitude": -122.948037
          }
         },
         "link": "/v3/places/4b4a6ebcf964a5206f8726e3",
         "location": {
          "address": "300 Centennial Way",
          "address_extended": "# 100",
          "country": "CA",
          "cross_street": "nr Burnaby Mountain Pkwy",
          "formatted_address": "300 Centennial Way (nr Burnaby Mountain Pkwy), Burnaby BC V5A 2X9",
          "locality": "Burnaby",
          "postcode": "V5A 2X9",
          "region": "BC"
         },
         "name": "Burnaby Mountain Park",
         "related_places": {
          "children": [
           {
            "fsq_id": "5b625665d1a402002cce1353",
            "name": "Burnaby Mountain Centennial Rose Garden"
           },
           {
            "fsq_id": "59a37ea75c6838730844de8b",
            "name": "Kushiro Park"
           },
           {
            "fsq_id": "639a740eb63cec320fac676d",
            "name": "Playground of the Gods"
           }
          ]
         },
         "timezone": "America/Vancouver"
        },
        {
         "categories": [
          {
           "icon": {
            "prefix": "https://ss3.4sqi.net/img/categories_v2/parks_outdoors/lake_",
            "suffix": ".png"
           },
           "id": 16023,
           "name": "Lake"
          }
         ],
         "chains": [],
         "distance": 6585,
         "fsq_id": "4b9339c7f964a520263c34e3",
         "geocodes": {
          "main": {
           "latitude": 49.324282,
           "longitude": -122.856546
          },
          "roof": {
           "latitude": 49.324282,
           "longitude": -122.856546
          }
         },
         "link": "/v3/places/4b9339c7f964a520263c34e3",
         "location": {
          "address": "Pk Access Rd",
          "country": "CA",
          "formatted_address": "Pk Access Rd, Anmore BC",
          "locality": "Anmore",
          "region": "BC"
         },
         "name": "Buntzen Lake",
         "related_places": {},
         "timezone": "America/Vancouver"
        },
        {
         "categories": [
          {
           "icon": {
            "prefix": "https://ss3.4sqi.net/img/categories_v2/parks_outdoors/lake_",
            "suffix": ".png"
           },
           "id": 16023,
           "name": "Lake"
          }
         ],
         "chains": [],
         "distance": 6602,
         "fsq_id": "4bef1788d1b7d13a2a51cdec",
         "geocodes": {
          "main": {
           "latitude": 49.286896,
           "longitude": -122.788716
          }
         },
         "link": "/v3/places/4bef1788d1b7d13a2a51cdec",
         "location": {
          "address": "1299 Pinetree Way",
          "country": "CA",
          "cross_street": "at Guildford Way",
          "formatted_address": "1299 Pinetree Way (at Guildford Way), Coquitlam BC",
          "locality": "Coquitlam",
          "region": "BC"
         },
         "name": "Lafarge Lake",
         "related_places": {},
         "timezone": "America/Vancouver"
        },
        {
         "categories": [
          {
           "icon": {
            "prefix": "https://ss3.4sqi.net/img/categories_v2/parks_outdoors/park_",
            "suffix": ".png"
           },
           "id": 16032,
           "name": "Park"
          }
         ],
         "chains": [],
         "distance": 6848,
         "fsq_id": "4ae37c29f964a520b49521e3",
         "geocodes": {
          "main": {
           "latitude": 49.289749,
           "longitude": -122.786591
          }
         },
         "link": "/v3/places/4ae37c29f964a520b49521e3",
         "location": {
          "country": "CA",
          "cross_street": "btwn Guildford Way & David Ave",
          "formatted_address": "btwn Guildford Way & David Ave, Coquitlam BC",
          "locality": "Coquitlam",
          "region": "BC"
         },
         "name": "Town Centre Park",
         "related_places": {},
         "timezone": "America/Vancouver"
        },
        {
         "categories": [
          {
           "icon": {
            "prefix": "https://ss3.4sqi.net/img/categories_v2/food/bakery_",
            "suffix": ".png"
           },
           "id": 13002,
           "name": "Bakery"
          }
         ],
         "chains": [],
         "distance": 6898,
         "fsq_id": "56229c92498e8dfc37d94801",
         "geocodes": {
          "main": {
           "latitude": 49.211408,
           "longitude": -122.918459
          },
          "roof": {
           "latitude": 49.211408,
           "longitude": -122.918459
          }
         },
         "link": "/v3/places/56229c92498e8dfc37d94801",
         "location": {
          "address": "444 6th St",
          "country": "CA",
          "cross_street": "Fifth Avenue",
          "formatted_address": "444 6th St (Fifth Avenue), New Westminster BC",
          "locality": "New Westminster",
          "region": "BC"
         },
         "name": "Kozak Homemade Ukrainian Food",
         "related_places": {},
         "timezone": "America/Vancouver"
        },
        {
         "categories": [
          {
           "icon": {
            "prefix": "https://ss3.4sqi.net/img/categories_v2/parks_outdoors/lake_",
            "suffix": ".png"
           },
           "id": 16023,
           "name": "Lake"
          },
          {
           "icon": {
            "prefix": "https://ss3.4sqi.net/img/categories_v2/parks_outdoors/park_",
            "suffix": ".png"
           },
           "id": 16032,
           "name": "Park"
          }
         ],
         "chains": [],
         "distance": 7619,
         "fsq_id": "4c8980ea2e33370437b7bb41",
         "geocodes": {
          "main": {
           "latitude": 49.240731,
           "longitude": -122.968766
          },
          "roof": {
           "latitude": 49.240731,
           "longitude": -122.968766
          }
         },
         "link": "/v3/places/4c8980ea2e33370437b7bb41",
         "location": {
          "address": "6450 Deer Lake Ave",
          "country": "CA",
          "formatted_address": "6450 Deer Lake Ave, Burnaby BC V5G 2J3",
          "locality": "Burnaby",
          "postcode": "V5G 2J3",
          "region": "BC"
         },
         "name": "Deer Lake Park",
         "related_places": {
          "children": [
           {
            "fsq_id": "5b4bbf684f0e58002ce59891",
            "name": "Deer Lake Boat Rentals"
           }
          ]
         },
         "timezone": "America/Vancouver"
        }
       ]
      },
      "text/plain": [
       "<IPython.core.display.JSON object>"
      ]
     },
     "execution_count": 4,
     "metadata": {
      "application/json": {
       "expanded": false,
       "root": "root"
      }
     },
     "output_type": "execute_result"
    }
   ],
   "source": [
    "all_bike_stations = requests.get(url='https://api.foursquare.com/v3/places/search?', headers = {\n",
    "        \"accept\": \"application/json\",\n",
    "        \"Authorization\": \"fsq3140FVgABKaS75tF4yA3bV3OJJrHATW67KDvk7Swt26Y=\"\n",
    "    }).json()\n",
    "\n",
    "JSON(all_bike_stations)\n",
    "\n",
    "#networks_df = pd.json_normalize(data = results)\n",
    "#networks_df\n",
    "#networks_df\n",
    "\n",
    "\n",
    "\n"
   ]
  },
  {
   "cell_type": "code",
   "execution_count": null,
   "metadata": {},
   "outputs": [],
   "source": [
    "# preparing data\n",
    "#data.dropna(subset=['Latitude', 'Longitude'], inplace=True)\n",
    "#creation of variable with lon and lat together\n",
    "#data['ll'] = data['Latitude'].astype(str) + ',' + data['Longitude'].astype(str)"
   ]
  },
  {
   "cell_type": "code",
   "execution_count": 3,
   "metadata": {},
   "outputs": [],
   "source": [
    "def get_venuesmobibikes(ll):\n",
    "    url = \"https://api.foursquare.com/v3/places/search?\"\n",
    "    headers = {\n",
    "        \"accept\": \"application/json\",\n",
    "        \"Authorization\": \"fsq3140FVgABKaS75tF4yA3bV3OJJrHATW67KDvk7Swt26Y=\"\n",
    "    }\n",
    "    parametere = {}\n",
    "    parametere['query'] = 'bar'\n",
    "    parametere['ll'] = ll\n",
    "    parametere['radius'] = 1000\n",
    "    parametere['limit'] = 50    \n",
    "    parametere['fields']= \"name\"\n",
    "    \n",
    "    response = requests.get(url, headers=headers, params=parametere).json()\n",
    "    return response"
   ]
  },
  {
   "cell_type": "markdown",
   "metadata": {},
   "source": [
    "Parse through the response to get the POI (such as restaurants, bars, etc) details you want (ratings, name, location, etc)"
   ]
  },
  {
   "cell_type": "code",
   "execution_count": null,
   "metadata": {},
   "outputs": [],
   "source": [
    "data1['newCol']"
   ]
  },
  {
   "cell_type": "markdown",
   "metadata": {},
   "source": [
    "Put your parsed results into a DataFrame"
   ]
  },
  {
   "cell_type": "code",
   "execution_count": null,
   "metadata": {},
   "outputs": [],
   "source": []
  },
  {
   "cell_type": "markdown",
   "metadata": {},
   "source": [
    "# Yelp"
   ]
  },
  {
   "cell_type": "markdown",
   "metadata": {},
   "source": [
    "Send a request to Yelp with a small radius (1000m) for all the bike stations in your city of choice. "
   ]
  },
  {
   "cell_type": "code",
   "execution_count": null,
   "metadata": {},
   "outputs": [],
   "source": []
  },
  {
   "cell_type": "markdown",
   "metadata": {},
   "source": [
    "Parse through the response to get the POI (such as restaurants, bars, etc) details you want (ratings, name, location, etc)"
   ]
  },
  {
   "cell_type": "code",
   "execution_count": null,
   "metadata": {},
   "outputs": [],
   "source": []
  },
  {
   "cell_type": "markdown",
   "metadata": {},
   "source": [
    "Put your parsed results into a DataFrame"
   ]
  },
  {
   "cell_type": "markdown",
   "metadata": {},
   "source": []
  },
  {
   "cell_type": "markdown",
   "metadata": {},
   "source": [
    "# Comparing Results"
   ]
  },
  {
   "cell_type": "markdown",
   "metadata": {},
   "source": [
    "Which API provided you with more complete data? Provide an explanation. "
   ]
  },
  {
   "cell_type": "markdown",
   "metadata": {},
   "source": []
  },
  {
   "cell_type": "markdown",
   "metadata": {},
   "source": [
    "Get the top 10 restaurants according to their rating"
   ]
  },
  {
   "cell_type": "code",
   "execution_count": null,
   "metadata": {},
   "outputs": [],
   "source": []
  }
 ],
 "metadata": {
  "kernelspec": {
   "display_name": "Python 3 (ipykernel)",
   "language": "python",
   "name": "python3"
  },
  "language_info": {
   "codemirror_mode": {
    "name": "ipython",
    "version": 3
   },
   "file_extension": ".py",
   "mimetype": "text/x-python",
   "name": "python",
   "nbconvert_exporter": "python",
   "pygments_lexer": "ipython3",
   "version": "3.9.13"
  }
 },
 "nbformat": 4,
 "nbformat_minor": 4
}
